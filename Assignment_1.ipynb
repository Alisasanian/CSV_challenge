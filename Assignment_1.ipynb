{
 "cells": [
  {
   "cell_type": "code",
   "execution_count": 2,
   "id": "05a3f4bd-8e5c-4ca9-ae7b-111689bfb509",
   "metadata": {},
   "outputs": [],
   "source": [
    "import pandas as pd \n",
    "import numpy as np\n",
    "import matplotlib.pyplot as plt\n",
    "import seaborn as sns\n",
    "sns.set_theme(style=\"whitegrid\")"
   ]
  },
  {
   "cell_type": "markdown",
   "id": "c6dcc8bc-3d55-4e26-8be0-4dba680b3cb9",
   "metadata": {},
   "source": []
  },
  {
   "cell_type": "markdown",
   "id": "1fab3a2d-3d89-4306-b72b-ab013972592a",
   "metadata": {},
   "source": [
    "# Assignment 1 Exploratory Adata Analysis"
   ]
  },
  {
   "cell_type": "markdown",
   "id": "4e23b98d-d2e0-4b08-9a41-36053f662bbd",
   "metadata": {
    "tags": []
   },
   "source": [
    "#### I used the artists.csv and arts.csv files provided by the MoMa collection for this analysis"
   ]
  },
  {
   "cell_type": "markdown",
   "id": "0b18c6a2-cc04-4843-8e0f-e673266b6b8c",
   "metadata": {},
   "source": [
    "#### First I imported the data to be able to use the .head command to take a look at the columns that each data has provided."
   ]
  },
  {
   "cell_type": "code",
   "execution_count": 4,
   "id": "77a2cb7d-2e99-4a66-9cdd-c7b3e15c9a1d",
   "metadata": {},
   "outputs": [
    {
     "data": {
      "text/html": [
       "<div>\n",
       "<style scoped>\n",
       "    .dataframe tbody tr th:only-of-type {\n",
       "        vertical-align: middle;\n",
       "    }\n",
       "\n",
       "    .dataframe tbody tr th {\n",
       "        vertical-align: top;\n",
       "    }\n",
       "\n",
       "    .dataframe thead th {\n",
       "        text-align: right;\n",
       "    }\n",
       "</style>\n",
       "<table border=\"1\" class=\"dataframe\">\n",
       "  <thead>\n",
       "    <tr style=\"text-align: right;\">\n",
       "      <th></th>\n",
       "      <th>ConstituentID</th>\n",
       "      <th>DisplayName</th>\n",
       "      <th>ArtistBio</th>\n",
       "      <th>Nationality</th>\n",
       "      <th>Gender</th>\n",
       "      <th>BeginDate</th>\n",
       "      <th>EndDate</th>\n",
       "      <th>Wiki QID</th>\n",
       "      <th>ULAN</th>\n",
       "    </tr>\n",
       "  </thead>\n",
       "  <tbody>\n",
       "    <tr>\n",
       "      <th>0</th>\n",
       "      <td>1</td>\n",
       "      <td>Robert Arneson</td>\n",
       "      <td>American, 1930–1992</td>\n",
       "      <td>American</td>\n",
       "      <td>Male</td>\n",
       "      <td>1930</td>\n",
       "      <td>1992</td>\n",
       "      <td>NaN</td>\n",
       "      <td>NaN</td>\n",
       "    </tr>\n",
       "    <tr>\n",
       "      <th>1</th>\n",
       "      <td>2</td>\n",
       "      <td>Doroteo Arnaiz</td>\n",
       "      <td>Spanish, born 1936</td>\n",
       "      <td>Spanish</td>\n",
       "      <td>Male</td>\n",
       "      <td>1936</td>\n",
       "      <td>0</td>\n",
       "      <td>NaN</td>\n",
       "      <td>NaN</td>\n",
       "    </tr>\n",
       "    <tr>\n",
       "      <th>2</th>\n",
       "      <td>3</td>\n",
       "      <td>Bill Arnold</td>\n",
       "      <td>American, born 1941</td>\n",
       "      <td>American</td>\n",
       "      <td>Male</td>\n",
       "      <td>1941</td>\n",
       "      <td>0</td>\n",
       "      <td>NaN</td>\n",
       "      <td>NaN</td>\n",
       "    </tr>\n",
       "    <tr>\n",
       "      <th>3</th>\n",
       "      <td>4</td>\n",
       "      <td>Charles Arnoldi</td>\n",
       "      <td>American, born 1946</td>\n",
       "      <td>American</td>\n",
       "      <td>Male</td>\n",
       "      <td>1946</td>\n",
       "      <td>0</td>\n",
       "      <td>Q1063584</td>\n",
       "      <td>500027998.0</td>\n",
       "    </tr>\n",
       "    <tr>\n",
       "      <th>4</th>\n",
       "      <td>5</td>\n",
       "      <td>Per Arnoldi</td>\n",
       "      <td>Danish, born 1941</td>\n",
       "      <td>Danish</td>\n",
       "      <td>Male</td>\n",
       "      <td>1941</td>\n",
       "      <td>0</td>\n",
       "      <td>NaN</td>\n",
       "      <td>NaN</td>\n",
       "    </tr>\n",
       "  </tbody>\n",
       "</table>\n",
       "</div>"
      ],
      "text/plain": [
       "   ConstituentID      DisplayName            ArtistBio Nationality Gender  \\\n",
       "0              1   Robert Arneson  American, 1930–1992    American   Male   \n",
       "1              2   Doroteo Arnaiz   Spanish, born 1936     Spanish   Male   \n",
       "2              3      Bill Arnold  American, born 1941    American   Male   \n",
       "3              4  Charles Arnoldi  American, born 1946    American   Male   \n",
       "4              5      Per Arnoldi    Danish, born 1941      Danish   Male   \n",
       "\n",
       "   BeginDate  EndDate  Wiki QID         ULAN  \n",
       "0       1930     1992       NaN          NaN  \n",
       "1       1936        0       NaN          NaN  \n",
       "2       1941        0       NaN          NaN  \n",
       "3       1946        0  Q1063584  500027998.0  \n",
       "4       1941        0       NaN          NaN  "
      ]
     },
     "execution_count": 4,
     "metadata": {},
     "output_type": "execute_result"
    }
   ],
   "source": [
    "artists = pd.read_csv(\"Data/artists.csv\")\n",
    "artists.head()"
   ]
  },
  {
   "cell_type": "code",
   "execution_count": 7,
   "id": "d47c5813-ab16-45ab-b232-d43188fb6bf0",
   "metadata": {},
   "outputs": [
    {
     "data": {
      "text/html": [
       "<div>\n",
       "<style scoped>\n",
       "    .dataframe tbody tr th:only-of-type {\n",
       "        vertical-align: middle;\n",
       "    }\n",
       "\n",
       "    .dataframe tbody tr th {\n",
       "        vertical-align: top;\n",
       "    }\n",
       "\n",
       "    .dataframe thead th {\n",
       "        text-align: right;\n",
       "    }\n",
       "</style>\n",
       "<table border=\"1\" class=\"dataframe\">\n",
       "  <thead>\n",
       "    <tr style=\"text-align: right;\">\n",
       "      <th></th>\n",
       "      <th>Title</th>\n",
       "      <th>Artist</th>\n",
       "      <th>ConstituentID</th>\n",
       "      <th>ArtistBio</th>\n",
       "      <th>Nationality</th>\n",
       "      <th>BeginDate</th>\n",
       "      <th>EndDate</th>\n",
       "      <th>Gender</th>\n",
       "      <th>Date</th>\n",
       "      <th>Medium</th>\n",
       "      <th>...</th>\n",
       "      <th>ThumbnailURL</th>\n",
       "      <th>Circumference (cm)</th>\n",
       "      <th>Depth (cm)</th>\n",
       "      <th>Diameter (cm)</th>\n",
       "      <th>Height (cm)</th>\n",
       "      <th>Length (cm)</th>\n",
       "      <th>Weight (kg)</th>\n",
       "      <th>Width (cm)</th>\n",
       "      <th>Seat Height (cm)</th>\n",
       "      <th>Duration (sec.)</th>\n",
       "    </tr>\n",
       "  </thead>\n",
       "  <tbody>\n",
       "    <tr>\n",
       "      <th>0</th>\n",
       "      <td>Ferdinandsbrücke Project, Vienna, Austria (Ele...</td>\n",
       "      <td>Otto Wagner</td>\n",
       "      <td>6210</td>\n",
       "      <td>(Austrian, 1841–1918)</td>\n",
       "      <td>(Austrian)</td>\n",
       "      <td>(1841)</td>\n",
       "      <td>(1918)</td>\n",
       "      <td>(Male)</td>\n",
       "      <td>1896</td>\n",
       "      <td>Ink and cut-and-pasted painted pages on paper</td>\n",
       "      <td>...</td>\n",
       "      <td>http://www.moma.org/media/W1siZiIsIjU5NDA1Il0s...</td>\n",
       "      <td>NaN</td>\n",
       "      <td>NaN</td>\n",
       "      <td>NaN</td>\n",
       "      <td>48.6000</td>\n",
       "      <td>NaN</td>\n",
       "      <td>NaN</td>\n",
       "      <td>168.9000</td>\n",
       "      <td>NaN</td>\n",
       "      <td>NaN</td>\n",
       "    </tr>\n",
       "    <tr>\n",
       "      <th>1</th>\n",
       "      <td>City of Music, National Superior Conservatory ...</td>\n",
       "      <td>Christian de Portzamparc</td>\n",
       "      <td>7470</td>\n",
       "      <td>(French, born 1944)</td>\n",
       "      <td>(French)</td>\n",
       "      <td>(1944)</td>\n",
       "      <td>(0)</td>\n",
       "      <td>(Male)</td>\n",
       "      <td>1987</td>\n",
       "      <td>Paint and colored pencil on print</td>\n",
       "      <td>...</td>\n",
       "      <td>http://www.moma.org/media/W1siZiIsIjk3Il0sWyJw...</td>\n",
       "      <td>NaN</td>\n",
       "      <td>NaN</td>\n",
       "      <td>NaN</td>\n",
       "      <td>40.6401</td>\n",
       "      <td>NaN</td>\n",
       "      <td>NaN</td>\n",
       "      <td>29.8451</td>\n",
       "      <td>NaN</td>\n",
       "      <td>NaN</td>\n",
       "    </tr>\n",
       "    <tr>\n",
       "      <th>2</th>\n",
       "      <td>Villa near Vienna Project, Outside Vienna, Aus...</td>\n",
       "      <td>Emil Hoppe</td>\n",
       "      <td>7605</td>\n",
       "      <td>(Austrian, 1876–1957)</td>\n",
       "      <td>(Austrian)</td>\n",
       "      <td>(1876)</td>\n",
       "      <td>(1957)</td>\n",
       "      <td>(Male)</td>\n",
       "      <td>1903</td>\n",
       "      <td>Graphite, pen, color pencil, ink, and gouache ...</td>\n",
       "      <td>...</td>\n",
       "      <td>http://www.moma.org/media/W1siZiIsIjk4Il0sWyJw...</td>\n",
       "      <td>NaN</td>\n",
       "      <td>NaN</td>\n",
       "      <td>NaN</td>\n",
       "      <td>34.3000</td>\n",
       "      <td>NaN</td>\n",
       "      <td>NaN</td>\n",
       "      <td>31.8000</td>\n",
       "      <td>NaN</td>\n",
       "      <td>NaN</td>\n",
       "    </tr>\n",
       "    <tr>\n",
       "      <th>3</th>\n",
       "      <td>The Manhattan Transcripts Project, New York, N...</td>\n",
       "      <td>Bernard Tschumi</td>\n",
       "      <td>7056</td>\n",
       "      <td>(French and Swiss, born Switzerland 1944)</td>\n",
       "      <td>()</td>\n",
       "      <td>(1944)</td>\n",
       "      <td>(0)</td>\n",
       "      <td>(Male)</td>\n",
       "      <td>1980</td>\n",
       "      <td>Photographic reproduction with colored synthet...</td>\n",
       "      <td>...</td>\n",
       "      <td>http://www.moma.org/media/W1siZiIsIjEyNCJdLFsi...</td>\n",
       "      <td>NaN</td>\n",
       "      <td>NaN</td>\n",
       "      <td>NaN</td>\n",
       "      <td>50.8000</td>\n",
       "      <td>NaN</td>\n",
       "      <td>NaN</td>\n",
       "      <td>50.8000</td>\n",
       "      <td>NaN</td>\n",
       "      <td>NaN</td>\n",
       "    </tr>\n",
       "    <tr>\n",
       "      <th>4</th>\n",
       "      <td>Villa, project, outside Vienna, Austria, Exter...</td>\n",
       "      <td>Emil Hoppe</td>\n",
       "      <td>7605</td>\n",
       "      <td>(Austrian, 1876–1957)</td>\n",
       "      <td>(Austrian)</td>\n",
       "      <td>(1876)</td>\n",
       "      <td>(1957)</td>\n",
       "      <td>(Male)</td>\n",
       "      <td>1903</td>\n",
       "      <td>Graphite, color pencil, ink, and gouache on tr...</td>\n",
       "      <td>...</td>\n",
       "      <td>http://www.moma.org/media/W1siZiIsIjEyNiJdLFsi...</td>\n",
       "      <td>NaN</td>\n",
       "      <td>NaN</td>\n",
       "      <td>NaN</td>\n",
       "      <td>38.4000</td>\n",
       "      <td>NaN</td>\n",
       "      <td>NaN</td>\n",
       "      <td>19.1000</td>\n",
       "      <td>NaN</td>\n",
       "      <td>NaN</td>\n",
       "    </tr>\n",
       "  </tbody>\n",
       "</table>\n",
       "<p>5 rows × 29 columns</p>\n",
       "</div>"
      ],
      "text/plain": [
       "                                               Title  \\\n",
       "0  Ferdinandsbrücke Project, Vienna, Austria (Ele...   \n",
       "1  City of Music, National Superior Conservatory ...   \n",
       "2  Villa near Vienna Project, Outside Vienna, Aus...   \n",
       "3  The Manhattan Transcripts Project, New York, N...   \n",
       "4  Villa, project, outside Vienna, Austria, Exter...   \n",
       "\n",
       "                     Artist ConstituentID  \\\n",
       "0               Otto Wagner          6210   \n",
       "1  Christian de Portzamparc          7470   \n",
       "2                Emil Hoppe          7605   \n",
       "3           Bernard Tschumi          7056   \n",
       "4                Emil Hoppe          7605   \n",
       "\n",
       "                                   ArtistBio Nationality BeginDate EndDate  \\\n",
       "0                      (Austrian, 1841–1918)  (Austrian)    (1841)  (1918)   \n",
       "1                        (French, born 1944)    (French)    (1944)     (0)   \n",
       "2                      (Austrian, 1876–1957)  (Austrian)    (1876)  (1957)   \n",
       "3  (French and Swiss, born Switzerland 1944)          ()    (1944)     (0)   \n",
       "4                      (Austrian, 1876–1957)  (Austrian)    (1876)  (1957)   \n",
       "\n",
       "   Gender  Date                                             Medium  ...  \\\n",
       "0  (Male)  1896      Ink and cut-and-pasted painted pages on paper  ...   \n",
       "1  (Male)  1987                  Paint and colored pencil on print  ...   \n",
       "2  (Male)  1903  Graphite, pen, color pencil, ink, and gouache ...  ...   \n",
       "3  (Male)  1980  Photographic reproduction with colored synthet...  ...   \n",
       "4  (Male)  1903  Graphite, color pencil, ink, and gouache on tr...  ...   \n",
       "\n",
       "                                        ThumbnailURL Circumference (cm)  \\\n",
       "0  http://www.moma.org/media/W1siZiIsIjU5NDA1Il0s...                NaN   \n",
       "1  http://www.moma.org/media/W1siZiIsIjk3Il0sWyJw...                NaN   \n",
       "2  http://www.moma.org/media/W1siZiIsIjk4Il0sWyJw...                NaN   \n",
       "3  http://www.moma.org/media/W1siZiIsIjEyNCJdLFsi...                NaN   \n",
       "4  http://www.moma.org/media/W1siZiIsIjEyNiJdLFsi...                NaN   \n",
       "\n",
       "  Depth (cm) Diameter (cm) Height (cm) Length (cm) Weight (kg)  Width (cm)  \\\n",
       "0        NaN           NaN     48.6000         NaN         NaN    168.9000   \n",
       "1        NaN           NaN     40.6401         NaN         NaN     29.8451   \n",
       "2        NaN           NaN     34.3000         NaN         NaN     31.8000   \n",
       "3        NaN           NaN     50.8000         NaN         NaN     50.8000   \n",
       "4        NaN           NaN     38.4000         NaN         NaN     19.1000   \n",
       "\n",
       "  Seat Height (cm) Duration (sec.)  \n",
       "0              NaN             NaN  \n",
       "1              NaN             NaN  \n",
       "2              NaN             NaN  \n",
       "3              NaN             NaN  \n",
       "4              NaN             NaN  \n",
       "\n",
       "[5 rows x 29 columns]"
      ]
     },
     "execution_count": 7,
     "metadata": {},
     "output_type": "execute_result"
    }
   ],
   "source": [
    "artwork = pd.read_csv(\"Data/Arts.csv\")\n",
    "artwork.head()"
   ]
  },
  {
   "cell_type": "markdown",
   "id": "0942cfeb-401d-4bc4-841e-ccc8cfd0a04a",
   "metadata": {},
   "source": [
    "### Using the .info command I tried to see what data types were within the artists data set and the .columns command to have the column headers "
   ]
  },
  {
   "cell_type": "code",
   "execution_count": 161,
   "id": "8cffdcae-6011-4154-af30-2fb49c1407e2",
   "metadata": {},
   "outputs": [
    {
     "name": "stdout",
     "output_type": "stream",
     "text": [
      "<class 'pandas.core.frame.DataFrame'>\n",
      "RangeIndex: 15222 entries, 0 to 15221\n",
      "Data columns (total 9 columns):\n",
      " #   Column         Non-Null Count  Dtype  \n",
      "---  ------         --------------  -----  \n",
      " 0   ConstituentID  15222 non-null  int64  \n",
      " 1   DisplayName    15222 non-null  object \n",
      " 2   ArtistBio      13017 non-null  object \n",
      " 3   Nationality    12770 non-null  object \n",
      " 4   Gender         12081 non-null  object \n",
      " 5   BeginDate      15222 non-null  int64  \n",
      " 6   EndDate        15222 non-null  int64  \n",
      " 7   Wiki QID       3255 non-null   object \n",
      " 8   ULAN           2933 non-null   float64\n",
      "dtypes: float64(1), int64(3), object(5)\n",
      "memory usage: 1.0+ MB\n"
     ]
    }
   ],
   "source": [
    "artists.info()"
   ]
  },
  {
   "cell_type": "code",
   "execution_count": 9,
   "id": "d0988c6d-3f50-4399-b761-e36c54020dcd",
   "metadata": {},
   "outputs": [
    {
     "data": {
      "text/plain": [
       "Index(['ConstituentID', 'DisplayName', 'ArtistBio', 'Nationality', 'Gender',\n",
       "       'BeginDate', 'EndDate', 'Wiki QID', 'ULAN'],\n",
       "      dtype='object')"
      ]
     },
     "execution_count": 9,
     "metadata": {},
     "output_type": "execute_result"
    }
   ],
   "source": [
    "artists.columns"
   ]
  },
  {
   "cell_type": "markdown",
   "id": "636a4b56-201b-4b69-a8de-89bb2490cb07",
   "metadata": {},
   "source": [
    "### Here I wanted to see if I could create a new column that would be able represent the age of each individual artist so I used the calculation below to achieve that but I first had to define a year for the artists that were missing EndDates so I set that as 2021 for the purpose of this task. "
   ]
  },
  {
   "cell_type": "markdown",
   "id": "27755ef9-393a-474b-9cd9-a3ad3be15a40",
   "metadata": {},
   "source": []
  },
  {
   "cell_type": "code",
   "execution_count": 10,
   "id": "e1a6209d-e993-4573-b627-cb2c2954a0e8",
   "metadata": {},
   "outputs": [],
   "source": [
    "artists.loc[artists[\"EndDate\"] == 0, \"EndDate\"] = 2021\n",
    "artists[\"Life\"] = artists[\"EndDate\"] - artists[\"BeginDate\"]"
   ]
  },
  {
   "cell_type": "markdown",
   "id": "4ab1156b-f184-4a66-b28d-6a3578d8f363",
   "metadata": {},
   "source": [
    "### I used the .describe command to get an overall understanding of the numerical parameters and see if I could find any interesting piece of information. "
   ]
  },
  {
   "cell_type": "code",
   "execution_count": 12,
   "id": "ba55c70b-a037-496c-8721-90b2021a86d1",
   "metadata": {},
   "outputs": [
    {
     "data": {
      "text/html": [
       "<div>\n",
       "<style scoped>\n",
       "    .dataframe tbody tr th:only-of-type {\n",
       "        vertical-align: middle;\n",
       "    }\n",
       "\n",
       "    .dataframe tbody tr th {\n",
       "        vertical-align: top;\n",
       "    }\n",
       "\n",
       "    .dataframe thead th {\n",
       "        text-align: right;\n",
       "    }\n",
       "</style>\n",
       "<table border=\"1\" class=\"dataframe\">\n",
       "  <thead>\n",
       "    <tr style=\"text-align: right;\">\n",
       "      <th></th>\n",
       "      <th>ConstituentID</th>\n",
       "      <th>BeginDate</th>\n",
       "      <th>EndDate</th>\n",
       "      <th>ULAN</th>\n",
       "      <th>Life</th>\n",
       "    </tr>\n",
       "  </thead>\n",
       "  <tbody>\n",
       "    <tr>\n",
       "      <th>count</th>\n",
       "      <td>15222.000000</td>\n",
       "      <td>15222.000000</td>\n",
       "      <td>15222.000000</td>\n",
       "      <td>2.933000e+03</td>\n",
       "      <td>15222.000000</td>\n",
       "    </tr>\n",
       "    <tr>\n",
       "      <th>mean</th>\n",
       "      <td>20148.354881</td>\n",
       "      <td>1464.725726</td>\n",
       "      <td>2006.283800</td>\n",
       "      <td>5.000744e+08</td>\n",
       "      <td>541.558074</td>\n",
       "    </tr>\n",
       "    <tr>\n",
       "      <th>std</th>\n",
       "      <td>20799.341384</td>\n",
       "      <td>826.627736</td>\n",
       "      <td>28.363586</td>\n",
       "      <td>8.658297e+04</td>\n",
       "      <td>834.360112</td>\n",
       "    </tr>\n",
       "    <tr>\n",
       "      <th>min</th>\n",
       "      <td>1.000000</td>\n",
       "      <td>0.000000</td>\n",
       "      <td>1226.000000</td>\n",
       "      <td>5.000000e+08</td>\n",
       "      <td>1.000000</td>\n",
       "    </tr>\n",
       "    <tr>\n",
       "      <th>25%</th>\n",
       "      <td>4249.250000</td>\n",
       "      <td>1825.000000</td>\n",
       "      <td>2001.000000</td>\n",
       "      <td>5.000176e+08</td>\n",
       "      <td>64.000000</td>\n",
       "    </tr>\n",
       "    <tr>\n",
       "      <th>50%</th>\n",
       "      <td>8681.500000</td>\n",
       "      <td>1922.000000</td>\n",
       "      <td>2021.000000</td>\n",
       "      <td>5.000331e+08</td>\n",
       "      <td>80.000000</td>\n",
       "    </tr>\n",
       "    <tr>\n",
       "      <th>75%</th>\n",
       "      <td>34542.750000</td>\n",
       "      <td>1948.000000</td>\n",
       "      <td>2021.000000</td>\n",
       "      <td>5.001146e+08</td>\n",
       "      <td>116.000000</td>\n",
       "    </tr>\n",
       "    <tr>\n",
       "      <th>max</th>\n",
       "      <td>133038.000000</td>\n",
       "      <td>2017.000000</td>\n",
       "      <td>2021.000000</td>\n",
       "      <td>5.003566e+08</td>\n",
       "      <td>2021.000000</td>\n",
       "    </tr>\n",
       "  </tbody>\n",
       "</table>\n",
       "</div>"
      ],
      "text/plain": [
       "       ConstituentID     BeginDate       EndDate          ULAN          Life\n",
       "count   15222.000000  15222.000000  15222.000000  2.933000e+03  15222.000000\n",
       "mean    20148.354881   1464.725726   2006.283800  5.000744e+08    541.558074\n",
       "std     20799.341384    826.627736     28.363586  8.658297e+04    834.360112\n",
       "min         1.000000      0.000000   1226.000000  5.000000e+08      1.000000\n",
       "25%      4249.250000   1825.000000   2001.000000  5.000176e+08     64.000000\n",
       "50%      8681.500000   1922.000000   2021.000000  5.000331e+08     80.000000\n",
       "75%     34542.750000   1948.000000   2021.000000  5.001146e+08    116.000000\n",
       "max    133038.000000   2017.000000   2021.000000  5.003566e+08   2021.000000"
      ]
     },
     "execution_count": 12,
     "metadata": {},
     "output_type": "execute_result"
    }
   ],
   "source": [
    "artists.describe()"
   ]
  },
  {
   "cell_type": "markdown",
   "id": "32c6b4ed-29d4-4a85-918b-78aebc99d5aa",
   "metadata": {},
   "source": [
    "### Here I tried to visualize the gender diversity of artists included in the data set to get a better understanbding what could be explored.\n"
   ]
  },
  {
   "cell_type": "code",
   "execution_count": 13,
   "id": "1820c05f-f3ce-4989-8ff9-23d0d66e0e35",
   "metadata": {},
   "outputs": [
    {
     "data": {
      "text/plain": [
       "<AxesSubplot:xlabel='Gender', ylabel='counts'>"
      ]
     },
     "execution_count": 13,
     "metadata": {},
     "output_type": "execute_result"
    },
    {
     "data": {
      "image/png": "[encoded data removed]",
      "text/plain": [
       "<Figure size 432x288 with 1 Axes>"
      ]
     },
     "metadata": {},
     "output_type": "display_data"
    }
   ],
   "source": [
    "artists[\"Gender\"]=artists[\"Gender\"].str.upper()\n",
    "gender = artists.groupby(['Gender']).size().reset_index(name='counts')\n",
    "sns.barplot(x=\"Gender\" , y = \"counts\" , data = gender)"
   ]
  },
  {
   "cell_type": "markdown",
   "id": "d45267c2-faec-4ec0-bb7e-cba50ce790f0",
   "metadata": {},
   "source": [
    "### Here I tried to use some of the visualization commands from the Lab 2 to visualize somewhat random parameters to see if anything interesting came up or if any conclusions could be drawn from any of the graphs. "
   ]
  },
  {
   "cell_type": "code",
   "execution_count": 14,
   "id": "07cc3b00-e94f-47ea-b937-92fefe56eaf1",
   "metadata": {},
   "outputs": [
    {
     "data": {
      "text/plain": [
       "<AxesSubplot:xlabel='Life', ylabel='Count'>"
      ]
     },
     "execution_count": 14,
     "metadata": {},
     "output_type": "execute_result"
    },
    {
     "data": {
      "image/png": "[encoded data removed]",
      "text/plain": [
       "<Figure size 432x288 with 1 Axes>"
      ]
     },
     "metadata": {},
     "output_type": "display_data"
    }
   ],
   "source": [
    "sns.histplot(data=artists, x=\"Life\")"
   ]
  },
  {
   "cell_type": "code",
   "execution_count": 233,
   "id": "cacd94c7-438f-4148-8c35-a1fd06614821",
   "metadata": {},
   "outputs": [
    {
     "data": {
      "text/plain": [
       "<AxesSubplot:>"
      ]
     },
     "execution_count": 233,
     "metadata": {},
     "output_type": "execute_result"
    },
    {
     "data": {
      "image/png": "[encoded data removed]",
      "text/plain": [
       "<Figure size 432x288 with 1 Axes>"
      ]
     },
     "metadata": {},
     "output_type": "display_data"
    }
   ],
   "source": [
    "artists.plot()"
   ]
  },
  {
   "cell_type": "code",
   "execution_count": 234,
   "id": "66a5c998-2564-40bc-b4fb-e9e1d8bd3b4a",
   "metadata": {},
   "outputs": [
    {
     "data": {
      "text/plain": [
       "<AxesSubplot:>"
      ]
     },
     "execution_count": 234,
     "metadata": {},
     "output_type": "execute_result"
    },
    {
     "data": {
      "image/png": "[encoded data removed]",
      "text/plain": [
       "<Figure size 432x288 with 1 Axes>"
      ]
     },
     "metadata": {},
     "output_type": "display_data"
    }
   ],
   "source": [
    "artists['BeginDate'].plot()"
   ]
  },
  {
   "cell_type": "code",
   "execution_count": 235,
   "id": "955bb624-be0c-4458-85b0-52667895a0f4",
   "metadata": {},
   "outputs": [
    {
     "data": {
      "text/plain": [
       "American       5194\n",
       "German          969\n",
       "British         854\n",
       "French          848\n",
       "Italian         539\n",
       "               ... \n",
       "Bangladeshi       1\n",
       "Burkinabe         1\n",
       "Persian           1\n",
       "Ugandan           1\n",
       "Salvadoran        1\n",
       "Name: Nationality, Length: 118, dtype: int64"
      ]
     },
     "execution_count": 235,
     "metadata": {},
     "output_type": "execute_result"
    }
   ],
   "source": [
    "artists['Nationality'].value_counts()"
   ]
  },
  {
   "cell_type": "markdown",
   "id": "0a16725a-7d40-4a93-97fb-d464c269056d",
   "metadata": {},
   "source": [
    "### Here I thought that I would try to visualize BeginDate and Nationality against each other to see if I could find any significant correlations between the age in which notable artists of different countries have been born to see if this could signal a golden age of each countries artistic era. "
   ]
  },
  {
   "cell_type": "code",
   "execution_count": 242,
   "id": "d85a5885-a0ae-4b1a-b897-36786e3cfe00",
   "metadata": {},
   "outputs": [
    {
     "data": {
      "text/plain": [
       "<seaborn.axisgrid.FacetGrid at 0x7fd493bb0b20>"
      ]
     },
     "execution_count": 242,
     "metadata": {},
     "output_type": "execute_result"
    },
    {
     "data": {
      "image/png": "[encoded data removed]",
      "text/plain": [
       "<Figure size 360x360 with 1 Axes>"
      ]
     },
     "metadata": {},
     "output_type": "display_data"
    }
   ],
   "source": [
    "\n",
    "sns.relplot(x=\"BeginDate\", y=\"Nationality\", data=artists)"
   ]
  },
  {
   "cell_type": "markdown",
   "id": "63614498-ab46-4915-b1fd-b7a7a571a126",
   "metadata": {},
   "source": [
    "### I tried this visualization because I thought this could potentially signal a change in the heights of artworks produced throughout the different eras. "
   ]
  },
  {
   "cell_type": "code",
   "execution_count": 18,
   "id": "a11675a7-3d67-4489-b336-3c6a2443deb4",
   "metadata": {},
   "outputs": [
    {
     "name": "stderr",
     "output_type": "stream",
     "text": [
      "/Users/alisasanian/opt/anaconda3/lib/python3.8/site-packages/matplotlib/backends/backend_agg.py:238: RuntimeWarning: Glyph 8288 missing from current font.\n",
      "  font.set_text(s, 0.0, flags=flags)\n",
      "/Users/alisasanian/opt/anaconda3/lib/python3.8/site-packages/seaborn/axisgrid.py:64: UserWarning: Tight layout not applied. The left and right margins cannot be made large enough to accommodate all axes decorations. \n",
      "  self.fig.tight_layout(*args, **kwargs)\n"
     ]
    },
    {
     "data": {
      "text/plain": [
       "<seaborn.axisgrid.FacetGrid at 0x7fecd641c6a0>"
      ]
     },
     "execution_count": 18,
     "metadata": {},
     "output_type": "execute_result"
    },
    {
     "name": "stderr",
     "output_type": "stream",
     "text": [
      "/Users/alisasanian/opt/anaconda3/lib/python3.8/site-packages/matplotlib/backends/backend_agg.py:201: RuntimeWarning: Glyph 8288 missing from current font.\n",
      "  font.set_text(s, 0, flags=flags)\n"
     ]
    },
    {
     "data": {
      "image/png": "[encoded data removed]",
      "text/plain": [
       "<Figure size 360x360 with 1 Axes>"
      ]
     },
     "metadata": {},
     "output_type": "display_data"
    }
   ],
   "source": [
    "\n",
    "sns.relplot(x=\"Date\", y=\"Height (cm)\", data=artwork)"
   ]
  },
  {
   "cell_type": "code",
   "execution_count": 15,
   "id": "de540fed-0562-45ce-bc9b-84dfe220ebf3",
   "metadata": {},
   "outputs": [
    {
     "data": {
      "text/html": [
       "<div>\n",
       "<style scoped>\n",
       "    .dataframe tbody tr th:only-of-type {\n",
       "        vertical-align: middle;\n",
       "    }\n",
       "\n",
       "    .dataframe tbody tr th {\n",
       "        vertical-align: top;\n",
       "    }\n",
       "\n",
       "    .dataframe thead th {\n",
       "        text-align: right;\n",
       "    }\n",
       "</style>\n",
       "<table border=\"1\" class=\"dataframe\">\n",
       "  <thead>\n",
       "    <tr style=\"text-align: right;\">\n",
       "      <th></th>\n",
       "      <th>ConstituentID</th>\n",
       "      <th>DisplayName</th>\n",
       "      <th>ArtistBio</th>\n",
       "      <th>Nationality</th>\n",
       "      <th>Gender</th>\n",
       "      <th>BeginDate</th>\n",
       "      <th>EndDate</th>\n",
       "      <th>Wiki QID</th>\n",
       "      <th>ULAN</th>\n",
       "      <th>Life</th>\n",
       "    </tr>\n",
       "  </thead>\n",
       "  <tbody>\n",
       "    <tr>\n",
       "      <th>0</th>\n",
       "      <td>1</td>\n",
       "      <td>Robert Arneson</td>\n",
       "      <td>American, 1930–1992</td>\n",
       "      <td>American</td>\n",
       "      <td>MALE</td>\n",
       "      <td>1930</td>\n",
       "      <td>1992</td>\n",
       "      <td>NaN</td>\n",
       "      <td>NaN</td>\n",
       "      <td>62</td>\n",
       "    </tr>\n",
       "    <tr>\n",
       "      <th>1</th>\n",
       "      <td>2</td>\n",
       "      <td>Doroteo Arnaiz</td>\n",
       "      <td>Spanish, born 1936</td>\n",
       "      <td>Spanish</td>\n",
       "      <td>MALE</td>\n",
       "      <td>1936</td>\n",
       "      <td>2021</td>\n",
       "      <td>NaN</td>\n",
       "      <td>NaN</td>\n",
       "      <td>85</td>\n",
       "    </tr>\n",
       "    <tr>\n",
       "      <th>2</th>\n",
       "      <td>3</td>\n",
       "      <td>Bill Arnold</td>\n",
       "      <td>American, born 1941</td>\n",
       "      <td>American</td>\n",
       "      <td>MALE</td>\n",
       "      <td>1941</td>\n",
       "      <td>2021</td>\n",
       "      <td>NaN</td>\n",
       "      <td>NaN</td>\n",
       "      <td>80</td>\n",
       "    </tr>\n",
       "    <tr>\n",
       "      <th>3</th>\n",
       "      <td>4</td>\n",
       "      <td>Charles Arnoldi</td>\n",
       "      <td>American, born 1946</td>\n",
       "      <td>American</td>\n",
       "      <td>MALE</td>\n",
       "      <td>1946</td>\n",
       "      <td>2021</td>\n",
       "      <td>Q1063584</td>\n",
       "      <td>500027998.0</td>\n",
       "      <td>75</td>\n",
       "    </tr>\n",
       "    <tr>\n",
       "      <th>4</th>\n",
       "      <td>5</td>\n",
       "      <td>Per Arnoldi</td>\n",
       "      <td>Danish, born 1941</td>\n",
       "      <td>Danish</td>\n",
       "      <td>MALE</td>\n",
       "      <td>1941</td>\n",
       "      <td>2021</td>\n",
       "      <td>NaN</td>\n",
       "      <td>NaN</td>\n",
       "      <td>80</td>\n",
       "    </tr>\n",
       "  </tbody>\n",
       "</table>\n",
       "</div>"
      ],
      "text/plain": [
       "   ConstituentID      DisplayName            ArtistBio Nationality Gender  \\\n",
       "0              1   Robert Arneson  American, 1930–1992    American   MALE   \n",
       "1              2   Doroteo Arnaiz   Spanish, born 1936     Spanish   MALE   \n",
       "2              3      Bill Arnold  American, born 1941    American   MALE   \n",
       "3              4  Charles Arnoldi  American, born 1946    American   MALE   \n",
       "4              5      Per Arnoldi    Danish, born 1941      Danish   MALE   \n",
       "\n",
       "   BeginDate  EndDate  Wiki QID         ULAN  Life  \n",
       "0       1930     1992       NaN          NaN    62  \n",
       "1       1936     2021       NaN          NaN    85  \n",
       "2       1941     2021       NaN          NaN    80  \n",
       "3       1946     2021  Q1063584  500027998.0    75  \n",
       "4       1941     2021       NaN          NaN    80  "
      ]
     },
     "execution_count": 15,
     "metadata": {},
     "output_type": "execute_result"
    }
   ],
   "source": [
    "artists.head()"
   ]
  },
  {
   "cell_type": "code",
   "execution_count": null,
   "id": "81cc67b2-9fc7-49e8-bbbf-2b3347ad0bab",
   "metadata": {},
   "outputs": [],
   "source": []
  },
  {
   "cell_type": "markdown",
   "id": "1bcc5a88-0e1e-49e4-bb27-9e01c2ddca52",
   "metadata": {},
   "source": []
  },
  {
   "cell_type": "code",
   "execution_count": 7,
   "id": "6509412e-71ee-4934-a051-45a97de683a5",
   "metadata": {},
   "outputs": [
    {
     "data": {
      "text/html": [
       "<div>\n",
       "<style scoped>\n",
       "    .dataframe tbody tr th:only-of-type {\n",
       "        vertical-align: middle;\n",
       "    }\n",
       "\n",
       "    .dataframe tbody tr th {\n",
       "        vertical-align: top;\n",
       "    }\n",
       "\n",
       "    .dataframe thead th {\n",
       "        text-align: right;\n",
       "    }\n",
       "</style>\n",
       "<table border=\"1\" class=\"dataframe\">\n",
       "  <thead>\n",
       "    <tr style=\"text-align: right;\">\n",
       "      <th></th>\n",
       "      <th>ObjectID</th>\n",
       "      <th>Circumference (cm)</th>\n",
       "      <th>Depth (cm)</th>\n",
       "      <th>Diameter (cm)</th>\n",
       "      <th>Height (cm)</th>\n",
       "      <th>Length (cm)</th>\n",
       "      <th>Weight (kg)</th>\n",
       "      <th>Width (cm)</th>\n",
       "      <th>Seat Height (cm)</th>\n",
       "      <th>Duration (sec.)</th>\n",
       "    </tr>\n",
       "  </thead>\n",
       "  <tbody>\n",
       "    <tr>\n",
       "      <th>count</th>\n",
       "      <td>138151.000000</td>\n",
       "      <td>10.000000</td>\n",
       "      <td>13839.000000</td>\n",
       "      <td>1462.000000</td>\n",
       "      <td>120355.000000</td>\n",
       "      <td>742.000000</td>\n",
       "      <td>290.000000</td>\n",
       "      <td>119434.000000</td>\n",
       "      <td>0.0</td>\n",
       "      <td>2.140000e+03</td>\n",
       "    </tr>\n",
       "    <tr>\n",
       "      <th>mean</th>\n",
       "      <td>97170.256618</td>\n",
       "      <td>44.868020</td>\n",
       "      <td>16.353863</td>\n",
       "      <td>23.094845</td>\n",
       "      <td>37.456124</td>\n",
       "      <td>89.687579</td>\n",
       "      <td>1283.674965</td>\n",
       "      <td>37.973398</td>\n",
       "      <td>NaN</td>\n",
       "      <td>6.156488e+03</td>\n",
       "    </tr>\n",
       "    <tr>\n",
       "      <th>std</th>\n",
       "      <td>81950.720570</td>\n",
       "      <td>28.631604</td>\n",
       "      <td>54.495960</td>\n",
       "      <td>44.626483</td>\n",
       "      <td>49.604159</td>\n",
       "      <td>329.428165</td>\n",
       "      <td>12017.504240</td>\n",
       "      <td>67.277097</td>\n",
       "      <td>NaN</td>\n",
       "      <td>1.371250e+05</td>\n",
       "    </tr>\n",
       "    <tr>\n",
       "      <th>min</th>\n",
       "      <td>2.000000</td>\n",
       "      <td>9.900000</td>\n",
       "      <td>0.000000</td>\n",
       "      <td>0.635000</td>\n",
       "      <td>0.000000</td>\n",
       "      <td>0.000000</td>\n",
       "      <td>0.090000</td>\n",
       "      <td>0.000000</td>\n",
       "      <td>NaN</td>\n",
       "      <td>0.000000e+00</td>\n",
       "    </tr>\n",
       "    <tr>\n",
       "      <th>25%</th>\n",
       "      <td>36671.500000</td>\n",
       "      <td>23.500000</td>\n",
       "      <td>0.000000</td>\n",
       "      <td>7.778800</td>\n",
       "      <td>17.938786</td>\n",
       "      <td>17.100000</td>\n",
       "      <td>5.726700</td>\n",
       "      <td>17.500000</td>\n",
       "      <td>NaN</td>\n",
       "      <td>1.200000e+02</td>\n",
       "    </tr>\n",
       "    <tr>\n",
       "      <th>50%</th>\n",
       "      <td>73896.000000</td>\n",
       "      <td>36.000000</td>\n",
       "      <td>0.317501</td>\n",
       "      <td>13.652500</td>\n",
       "      <td>27.800000</td>\n",
       "      <td>26.700000</td>\n",
       "      <td>20.185100</td>\n",
       "      <td>25.400051</td>\n",
       "      <td>NaN</td>\n",
       "      <td>4.330000e+02</td>\n",
       "    </tr>\n",
       "    <tr>\n",
       "      <th>75%</th>\n",
       "      <td>141636.500000</td>\n",
       "      <td>71.125000</td>\n",
       "      <td>9.842510</td>\n",
       "      <td>24.980950</td>\n",
       "      <td>43.900000</td>\n",
       "      <td>79.700000</td>\n",
       "      <td>77.678500</td>\n",
       "      <td>44.200000</td>\n",
       "      <td>NaN</td>\n",
       "      <td>1.620000e+03</td>\n",
       "    </tr>\n",
       "    <tr>\n",
       "      <th>max</th>\n",
       "      <td>419289.000000</td>\n",
       "      <td>83.800000</td>\n",
       "      <td>1808.483617</td>\n",
       "      <td>914.400000</td>\n",
       "      <td>9140.000000</td>\n",
       "      <td>8321.056600</td>\n",
       "      <td>185067.585957</td>\n",
       "      <td>9144.000000</td>\n",
       "      <td>NaN</td>\n",
       "      <td>6.283065e+06</td>\n",
       "    </tr>\n",
       "  </tbody>\n",
       "</table>\n",
       "</div>"
      ],
      "text/plain": [
       "            ObjectID  Circumference (cm)    Depth (cm)  Diameter (cm)  \\\n",
       "count  138151.000000           10.000000  13839.000000    1462.000000   \n",
       "mean    97170.256618           44.868020     16.353863      23.094845   \n",
       "std     81950.720570           28.631604     54.495960      44.626483   \n",
       "min         2.000000            9.900000      0.000000       0.635000   \n",
       "25%     36671.500000           23.500000      0.000000       7.778800   \n",
       "50%     73896.000000           36.000000      0.317501      13.652500   \n",
       "75%    141636.500000           71.125000      9.842510      24.980950   \n",
       "max    419289.000000           83.800000   1808.483617     914.400000   \n",
       "\n",
       "         Height (cm)  Length (cm)    Weight (kg)     Width (cm)  \\\n",
       "count  120355.000000   742.000000     290.000000  119434.000000   \n",
       "mean       37.456124    89.687579    1283.674965      37.973398   \n",
       "std        49.604159   329.428165   12017.504240      67.277097   \n",
       "min         0.000000     0.000000       0.090000       0.000000   \n",
       "25%        17.938786    17.100000       5.726700      17.500000   \n",
       "50%        27.800000    26.700000      20.185100      25.400051   \n",
       "75%        43.900000    79.700000      77.678500      44.200000   \n",
       "max      9140.000000  8321.056600  185067.585957    9144.000000   \n",
       "\n",
       "       Seat Height (cm)  Duration (sec.)  \n",
       "count               0.0     2.140000e+03  \n",
       "mean                NaN     6.156488e+03  \n",
       "std                 NaN     1.371250e+05  \n",
       "min                 NaN     0.000000e+00  \n",
       "25%                 NaN     1.200000e+02  \n",
       "50%                 NaN     4.330000e+02  \n",
       "75%                 NaN     1.620000e+03  \n",
       "max                 NaN     6.283065e+06  "
      ]
     },
     "execution_count": 7,
     "metadata": {},
     "output_type": "execute_result"
    }
   ],
   "source": [
    "artwork.describe()"
   ]
  },
  {
   "cell_type": "code",
   "execution_count": 8,
   "id": "a0b0c453-6cd3-4e5d-806b-4734a2105d6f",
   "metadata": {},
   "outputs": [
    {
     "name": "stdout",
     "output_type": "stream",
     "text": [
      "<class 'pandas.core.frame.DataFrame'>\n",
      "RangeIndex: 138151 entries, 0 to 138150\n",
      "Data columns (total 29 columns):\n",
      " #   Column              Non-Null Count   Dtype  \n",
      "---  ------              --------------   -----  \n",
      " 0   Title               138112 non-null  object \n",
      " 1   Artist              136868 non-null  object \n",
      " 2   ConstituentID       136868 non-null  object \n",
      " 3   ArtistBio           132226 non-null  object \n",
      " 4   Nationality         136868 non-null  object \n",
      " 5   BeginDate           136868 non-null  object \n",
      " 6   EndDate             136868 non-null  object \n",
      " 7   Gender              136868 non-null  object \n",
      " 8   Date                135949 non-null  object \n",
      " 9   Medium              128450 non-null  object \n",
      " 10  Dimensions          128397 non-null  object \n",
      " 11  CreditLine          135714 non-null  object \n",
      " 12  AccessionNumber     138151 non-null  object \n",
      " 13  Classification      138151 non-null  object \n",
      " 14  Department          138151 non-null  object \n",
      " 15  DateAcquired        131026 non-null  object \n",
      " 16  Cataloged           138151 non-null  object \n",
      " 17  ObjectID            138151 non-null  int64  \n",
      " 18  URL                 87184 non-null   object \n",
      " 19  ThumbnailURL        76409 non-null   object \n",
      " 20  Circumference (cm)  10 non-null      float64\n",
      " 21  Depth (cm)          13839 non-null   float64\n",
      " 22  Diameter (cm)       1462 non-null    float64\n",
      " 23  Height (cm)         120355 non-null  float64\n",
      " 24  Length (cm)         742 non-null     float64\n",
      " 25  Weight (kg)         290 non-null     float64\n",
      " 26  Width (cm)          119434 non-null  float64\n",
      " 27  Seat Height (cm)    0 non-null       float64\n",
      " 28  Duration (sec.)     2140 non-null    float64\n",
      "dtypes: float64(9), int64(1), object(19)\n",
      "memory usage: 30.6+ MB\n"
     ]
    }
   ],
   "source": [
    "artwork.info()"
   ]
  },
  {
   "cell_type": "code",
   "execution_count": 8,
   "id": "4bc01194-e35c-42d1-ad08-b2829979954a",
   "metadata": {},
   "outputs": [],
   "source": [
    "artwork = artwork.fillna(method= \"backfill\")"
   ]
  },
  {
   "cell_type": "code",
   "execution_count": 221,
   "id": "4984fa23-d82c-4429-8dde-7bdba9222297",
   "metadata": {},
   "outputs": [
    {
     "data": {
      "text/plain": [
       "<AxesSubplot:xlabel='Height (cm)', ylabel='Length (cm)'>"
      ]
     },
     "execution_count": 221,
     "metadata": {},
     "output_type": "execute_result"
    },
    {
     "data": {
      "image/png": "[encoded data removed]",
      "text/plain": [
       "<Figure size 432x288 with 1 Axes>"
      ]
     },
     "metadata": {},
     "output_type": "display_data"
    }
   ],
   "source": [
    "sns.scatterplot(x = r\"Height (cm)\" ,y = r\"Length (cm)\"  , data = artwork )"
   ]
  },
  {
   "cell_type": "code",
   "execution_count": 220,
   "id": "b819e0a0-8865-46f0-aeb9-760deafd310c",
   "metadata": {},
   "outputs": [],
   "source": []
  },
  {
   "cell_type": "code",
   "execution_count": 222,
   "id": "91e9bec5-1d62-4970-8003-c0137dd09a1e",
   "metadata": {},
   "outputs": [
    {
     "data": {
      "text/plain": [
       "<AxesSubplot:xlabel='Height (cm)', ylabel='Weight (kg)'>"
      ]
     },
     "execution_count": 222,
     "metadata": {},
     "output_type": "execute_result"
    },
    {
     "data": {
      "image/png": "[encoded data removed]",
      "text/plain": [
       "<Figure size 432x288 with 1 Axes>"
      ]
     },
     "metadata": {},
     "output_type": "display_data"
    }
   ],
   "source": [
    "sns.scatterplot(x = r\"Height (cm)\" ,y = r\"Weight (kg)\"  , data = artwork )"
   ]
  },
  {
   "cell_type": "code",
   "execution_count": 225,
   "id": "614e93c1-cdd0-4a12-869a-bbed1b4b4060",
   "metadata": {},
   "outputs": [
    {
     "data": {
      "text/plain": [
       "array(['(Austrian)', '(French)', '()', ...,\n",
       "       '() (Swiss) (French) (Dutch) (American)',\n",
       "       '() (Swiss) (French) (American)',\n",
       "       '() (American) (American) (German) (American) (American) (American)'],\n",
       "      dtype=object)"
      ]
     },
     "execution_count": 225,
     "metadata": {},
     "output_type": "execute_result"
    }
   ],
   "source": [
    "artwork[\"Nationality\"].unique()"
   ]
  },
  {
   "cell_type": "code",
   "execution_count": 228,
   "id": "73a61763-f824-4e50-a53e-a9994ce6fc61",
   "metadata": {},
   "outputs": [
    {
     "data": {
      "image/png": "[encoded data removed]",
      "text/plain": [
       "<Figure size 360x360 with 1 Axes>"
      ]
     },
     "metadata": {},
     "output_type": "display_data"
    }
   ],
   "source": [
    "\n",
    "sns.relplot(x=r\"Height (cm)\", y=\"Width (cm)\", kind=\"line\", data=artwork);"
   ]
  },
  {
   "cell_type": "code",
   "execution_count": 232,
   "id": "5bf95ff1-30bb-443e-b733-79e3ff91251c",
   "metadata": {
    "collapsed": true,
    "jupyter": {
     "outputs_hidden": true
    },
    "tags": []
   },
   "outputs": [
    {
     "data": {
      "text/plain": [
       "array(['(Male)', '(Male) (Male)', '(Male) (Female)',\n",
       "       '(Male) (Male) (Male)', '() (Female) (Male)', '(Female)',\n",
       "       '(Male) (Female) (Male) (Female)', '() (Male) (Male)',\n",
       "       '() (Male) (Male) (Female)', '(Male) (Male) (Female) (Female)',\n",
       "       '(Male) (Male) (Male) (Male) (Male)',\n",
       "       '(Male) (Female) (Female) (Male)',\n",
       "       '(Male) () (Male) (Female) (Male) (Male) (Male) (Male) (Female)',\n",
       "       '() (Male)', '()', '() (Male) (Male) (Male) (Male) (Male) (Male)',\n",
       "       '(Male) () ()', '() (Male) (Male) (Male) (Male) (Male)',\n",
       "       '(Female) (Male)',\n",
       "       '() (Male) (Male) (Male) (Male) (Male) (Male) (Male)',\n",
       "       '() (Male) (Male) (Male) (Female) (Male)',\n",
       "       '(Male) (Male) (Male) (Male) (Female) (Male) (Male) (Male) (Male) (Male)',\n",
       "       '(Male) (Male) (Male) (Male) (Female) (Male)',\n",
       "       '(Male) (Female) (Male)', '(Male) (Male) () ()',\n",
       "       '(Male) (Male) (Male) (Male) (Male) (Male)',\n",
       "       '() (Male) (Male) (Male)',\n",
       "       '(Male) (Male) (Female) (Male) (Male) (Male) (Male) (Male)',\n",
       "       '() () (Female) () ()', '() (Male) (Male) (Male) ()',\n",
       "       '() (Male) (Male) (Male) (Male) (Male) ()', '() (Female)',\n",
       "       '(Male) (Male) ()', '() (Male) (Female)', '() ()',\n",
       "       '(Female) (Female)', '(Male) ()', '() (Male) (Male) (Male) (Male)',\n",
       "       '(Female) ()', '(Male) (Female) ()',\n",
       "       '(Male) (Male) (Male) (Male) (Female) ()',\n",
       "       '(Male) (Male) () (Male) ()', '() (Female) (Male) (Male)',\n",
       "       '(Male) (Male) (Male) (Male)', '(Male) (Male) (Female)',\n",
       "       '(Male) (Male) (Female) ()',\n",
       "       '(Male) (Male) (Male) (Male) (Male) ()',\n",
       "       '() (Female) (Male) (Male) (Female) (Male)',\n",
       "       '(Female) (Male) (Male)', '() () ()',\n",
       "       '() (Female) (Male) (Male) (Male) (Male)', '() (Male) (male)',\n",
       "       '(Male) (Male) (Male) (Male) (Male) (Male) ()',\n",
       "       '() (Male) (Male) (Male) (Male) (Male) (Male) (Male) (Male) (Male) (Male) (Male) (Male) (Male) (Female) (Male) (Male) (Male) (Male) (Male) (Male) (Male) (Male) (Male)',\n",
       "       '(Male) (Male) (Male) (Male) (Male) (Male) (Male) (Male) (Male) (Male) (Male) (Male) (Male) (Male) (Male) (Male) (Male) (Male) (Male) (Female) (Male) (Male) (Male) ()',\n",
       "       '(Male) (Male) (Male) (Male) (Male) (Male) (Male) (Male) (Male) (Male) (Male) (Male) (Male) ()',\n",
       "       '(Male) (Male) (Male) (Male) (Female) (Female) (Female) ()',\n",
       "       '() (Male) (Male) (Female) (Female) (Male)',\n",
       "       '(Male) (Male) (Male) ()', '() (Female) (Female)',\n",
       "       '() (Male) (Male) (Male) (Male) (Male) (Female) (Female)',\n",
       "       '(Female) (Female) (Male) (Male) (Male) ()',\n",
       "       '(Male) (Female) (Male) ()',\n",
       "       '() (Male) (Male) (Male) (Male) (Female)',\n",
       "       '() (Male) (Male) (Male) (Female) (Female) (Male) (Female) (Male) (Male) (Male) (Female) (Male) (Female) (Male) (Female) (Male) (Male) (Male)',\n",
       "       '(Male) (Female) (Male) (Male) (Male) (Male) (Female) (Female) (Male) (Male) (Male) (Male) (Female) (Male) (Male) (Female) (Male) (Male) (Male) (Male) (Male) (Male) (Male) (Male) (Male) (Male) (Male) (Female) ()',\n",
       "       '(Male) (Female) (Male) (Male) ()',\n",
       "       '() (Female) (Male) (Male) (Male)',\n",
       "       '(Male) (Male) (Male) (Male) ()',\n",
       "       '(Female) (Male) (Male) (Male) ()',\n",
       "       '() (Male) (Female) (Male) (Male) (Female)',\n",
       "       '() (Male) (Male) (Female) (Male) (Male) (Male) (Female) (Male)',\n",
       "       '(Male) (Male) (Female) (Male) ()',\n",
       "       '(Female) (Male) (Male) (Female) ()',\n",
       "       '() (Male) (Female) (Male) (Male) () ()', '(Female) (Male) ()',\n",
       "       '() (Male) (Male) (Female) (Male)',\n",
       "       '() (Female) (Female) (Male) (Female) (Male)',\n",
       "       '(Female) (Male) (Male) (Male) (Male) (Male) (Female) (Male) (Female) (Female) (Male) (Male) (Female) (Male) (Male) (Male) (Male) (Female) (Male) (Male) (Female) (Female) (Male) (Male) (Male) (Male) (Male) (Female) (Female) ()',\n",
       "       '(Male) (Male) (Male) (Male) (Male) (Male) (Male) (Male) (Male) (Male) ()',\n",
       "       '() (Male) (Male) (Male) (Male) (Male) (Male) (Male) (Male) (Female) (Male) (Male) (Male) (Male) (Male)',\n",
       "       '(Male) (Male) (Male) (Male) (Female) (Male) ()',\n",
       "       '() (Male) (Male) (Male) (Female)', '(Male) () (Male) (Male) ()',\n",
       "       '(Male) (Male) (Male) (Male) (Male) (Male) (Male) ()',\n",
       "       '(Male) (Male) (Male) (Male) (Male) (Male) (Male) (Male) (Male) (Male) (Male) (Female) (Female) (Male) (Male) (Male) (Male) (Male) (Male) (Male) ()',\n",
       "       '(Male) (Female) (Male) (Male) (Male) () (Male) (Male) (Male)',\n",
       "       '(Male) (Male) (Male) (Female) (Male) (Female) ()',\n",
       "       '(Male) (Male) (Male) (Male) (Male) (Female) (Male) (Female) (Male) (Male) ()',\n",
       "       '(Male) (Male) (Male) () (Male) ()',\n",
       "       '(Male) (Female) (Female) (Male) (Male) ()',\n",
       "       '(Female) (Female) (Male) (Male) (Female) ()',\n",
       "       '(Male) () (Male) (Male) (Male) (Male) (Male) (Male) ()',\n",
       "       '() (Male) (Male) (Male) (Male) (Male) (Male) (Male) (Male) (Male) (Male) (Male) (Male) (Male)',\n",
       "       '(Male) (Female) (Male) (Male) (Male) (Female) ()',\n",
       "       '(Male) (Male) (Male) (Male) (Male) (Male) (Male) (Female) (Male) (Male) (Male) ()',\n",
       "       '() (Male) () ()',\n",
       "       '(Male) (Female) (Male) (Male) (Male) (Male) (Male) ()',\n",
       "       '(Male) (Male) (Male) (Male) (Male) (Male) (Male) (Male) (Male) ()',\n",
       "       '() () (Male) () (Male) (Male)', '() (Male) (Male) ()',\n",
       "       '(Female) (Male) (Male) (Male) (Male) (Male) (Male) (Male) (Male) (Female) (Male) (Male) (Male) (Male) (Male) (Male) ()',\n",
       "       '(Male) (Male) (Male) (Male) (Male) (Female) (Male) (Male) (Male) (Male) (Male) (Female) (Male) (Male) (Male) ()',\n",
       "       '(Female) (Male) () (Male) (Male) (Male) (Male) (Male) ()',\n",
       "       '(Female) (Male) (Female)',\n",
       "       '(Male) (Male) (Male) (Male) (Female) (Male) (Male) (Male) (Male) (Male) (Male) (Male) (Male) (Male) (Male) (Male) (Male) (Male) (Male) (Male) ()',\n",
       "       '(Female) (Male) (Male) (Male) (Male) ()',\n",
       "       '() (Male) (Male) (Male) (Male) (Male) (Male) (Male) (Male) (Male) (Male) (Female) (Male) (Male) (Male) (Male) (Male) (Male)',\n",
       "       '(Male) (Male) (Male) (Male) (Male) (Male) (Male) (Male) (Male) (Male) (Male) (Male) (Male) (Male) (Female) (Female) (Male) (Male) (Male) (Female) (Male) (Female) (Female) (Female) ()',\n",
       "       '(Male) (Male) (Male) (Male) (Male) (Male) () () (Male) (Male)',\n",
       "       '(Male) (Male) (Male) (Female) (Male) (Male) (Male) (Male) (Male) ()',\n",
       "       '() () (Male)',\n",
       "       '(Male) (Male) (Male) (Male) (Male) (Male) (Female) (Male)',\n",
       "       '() (Female) (Female) (Female) (Male) (Male) (Male) (Female) (Female) () (Male) (Male) (Female) (Male)',\n",
       "       '(Male) (Male) (Male) (Male) (Male) (Male) (Male) (Male) (Male) (Male) (Male) () (Male) (Male) (Male) (Male) (Male) (Male) (Male) (Male) (Male) (Male) (Male) (Male) (Male) (Male) (Male) (Male) (Male) ()',\n",
       "       '() (Male) (Male) (Male) (Female) (Male) () (Male) () () (Male) (Male) (Male) (Female) (Male) () () (Male) () ()',\n",
       "       '(Female) (Female) (Male) (Male) ()',\n",
       "       '(Male) (Male) () () (Female) (Male)', '() (Male) () () ()',\n",
       "       '(Male) (Female) (Male) (Male) (Male)',\n",
       "       '(Female) (Male) (Male) (Female) (Female) ()',\n",
       "       '(Female) (Female) (Female) (Male) (Male) ()',\n",
       "       '(Male) (Male) () (Male) (Male) (Male) (Male)', '() () () (Male)',\n",
       "       '(Male) () (Male) (Male)',\n",
       "       '(Male) (Male) (Male) (Male) (Female) (Male) (Male) (Female) (Male) (Male) (Male) (Male) (Male) (Male) (Male) (Male) (Male) (Male) (Male) (Male) ()',\n",
       "       '() () () (Male) () (Female)',\n",
       "       '(Male) (Male) (Male) (Male) (Male) (Male) (Female) (Male) (Male) (Male) (Male) (Male) (Female) ()',\n",
       "       '() (Male) (Male) (Male) (Male) (Male) (Male) (Male) (Female) (Male) (Female) (Male)',\n",
       "       '(Male) (Male) (Male) (Male) (Male) (Male) (Male) (Male) (Female) (Female) ()',\n",
       "       '(Male) (Male) (Female) (Male) (Male) (Male) (Male) (Male) (Female) (Male) ()',\n",
       "       '(Male) (Male) (Female) (Male) (Male) (Male) (Male) (Male) (Male) (Female) ()',\n",
       "       '(Male) (Male) () () (Male)',\n",
       "       '(Male) (Male) (Male) (Female) (Male) (Male)',\n",
       "       '(Male) (Male) () (Male)', '() (Male) ()',\n",
       "       '(Male) (Male) (Male) (Male) (Female) (Male) (Male) (Male) (Male) (Male) (Male) (Male) (Male) (Male) (Male) (Male) () (Male) (Male) ()',\n",
       "       '(Male) (Female) (Male) (Male) (Male) (Male) (Male) (Male) (Female) (Male) (Male) (Male) (Male) (Male) (Male) (Male) (Male) ()',\n",
       "       '(Male) (Male) (Male) (Male) () (Male) (Male) (Male) (Male) (Male) (Male) (Male) (Male) (Male) (Male) (Male) (Male) ()',\n",
       "       '(Male) (Female) (Male) (Male) (Male) (Male) (Male) (Male) (Male) (Male) (Male) (Male) (Male) (Male) (Male) (Male) (Male) (Male) (Male) (Male) ()',\n",
       "       '(Male) (Male) (Male) () (Male) (Male) (Female)',\n",
       "       '(Male) (Male) (Male) (Male) () (Female) (Male) (Male) (Male) (Male)',\n",
       "       '() (Female) (Male) ()', '() (Male) (Female) (Female)',\n",
       "       '(Male) (Male) (Male) (Male) (Male) (Female) (Female) ()',\n",
       "       '(Male) (Male) (Male) (Male) (Male) (Male) (Male) (Male)',\n",
       "       '(Male) (Male) (Male) (Male) (Male) (Male) (Male) (Male) (Male) (Male) (Male) (Male) (Male) (Male) (Male) (Male) (Male) (Male) (Female) (Male) (Male) ()',\n",
       "       '(Male) (Male) () (Male) (Male)',\n",
       "       '(Male) (Male) (Male) (Male) (Female)',\n",
       "       '(Male) (Male) (Male) (Male) (Female) (Male) (Male) ()',\n",
       "       '(Male) (Male) (Male) (Male) (Male) (Male) (Male) (Female) (Male) (Male) (Male) (Male) (Male) (Male) (Male) ()',\n",
       "       '(Male) (Male) (Male) (Male) (Male) (Male) (Male) (Male) ()',\n",
       "       '() (Male) (Male) (Male) (Male) (Male) (Female) (Male) (Male) (Male) (Male) (Male)',\n",
       "       '(Male) (Male) (Male) (Male) (Male) (Male) (Male) (Male) (Male) (Female) (Male) (Male) (Male) (Male) (Male) (Male) (Male) (Female) (Male) (Female) (Male) (Male) (Male) (Male) (Male) ()',\n",
       "       '() (Male) (Male) (Male) (Female) (Male) (Male) (Male) (Male) (Male) (Male) (Male) (Male) (Male) (Female) (Male) (Male)',\n",
       "       '(Male) () (Male) (Male) (Male) (Male) (Male) (Male) (Male) (Male) (Male) (Female) (Male) (Male) ()',\n",
       "       '(Male) (Male) (Male) (Female) (Male) (Male) (Male) (Male) (Male) (Male) (Female) (Male) (Male) (Male) (Male) (Male) (Male) (Male) (Male) (Male) ()',\n",
       "       '(Male) (Male) () (Male) (Male) (Male) (Male) (Male) (Male) (Male) (Male) ()',\n",
       "       '() (Male) (Male) (Female) (Male) (Male) (Male) (Male) (Male) (Male) (Male)',\n",
       "       '() () () ()', '(Male) (Female) (Male) (Female) ()',\n",
       "       '(Male) (Female) (Female) (Male) ()',\n",
       "       '(Female) (Male) (Male) (Female) (Male) ()',\n",
       "       '() (Male) (Male) (Male) (Male) (Male) (Male) (Male) (Male) (Male) (Male) (Male) (Female) (Male) (Male) (Female) (Male) (Male) (Male) (Male) (Male) (Male) (Male) (Male) (Male) (Male) (Male) (Male)',\n",
       "       '(Male) (Male) (Female) (Female) (Female) (Male)',\n",
       "       '(Male) (Male) (Male) (Male) (Male) (Male) (Male) (Male) (Female) (Male) (Male) (Male) (Male) (Male) (Male) (Male) ()',\n",
       "       '() (Male) (Female) (Male) (Male)',\n",
       "       '() (Male) (Male) (Female) (Male) (Male) (Male) (Male)',\n",
       "       '() (Female) (Male) (Male) (Female)',\n",
       "       '() (Female) (Male) () (Male)',\n",
       "       '(Male) (Male) (Female) (Male) (Male) (Male) ()',\n",
       "       '(Female) (Female) (Male) (Female) (Male) (Male) (Male) ()',\n",
       "       '(Female) (Male) (Male) (Male) (Male) (Male) (Female) (Male) (Male) (Female) (Male) ()',\n",
       "       '(Female) (Male) (Male) (Male) (Male) (Male) (Male) (Male) (Male) (Male) (Male) ()',\n",
       "       '(Male) (Male) (Male) (Female)', '(Female) (Female) (Male) ()',\n",
       "       '(Male) (Female) (Female)', '(Female) (Female) (Female) (Male)',\n",
       "       '(Female) (Female) (Male)',\n",
       "       '() (Male) (Male) (Male) (Male) (Male) (Male) (Male) (Male) (Male) (Male)',\n",
       "       '(Male) () (Female) (Male) (Male) (Male) (Male)',\n",
       "       '() (Male) (Male) () () (Male) (Male) (Male) (Male) (Male) (Male) (Male) (Male) (Male) (Male) (Male) (Male) (Male) (Male) ()',\n",
       "       '() (Female) (Male) (Male) (Male) (Male) (Female) (Male) (Male)',\n",
       "       '() (Male) (Male) (Male) (Female) (Female) (Male) (Male) (Male) (Male) (Male) (Male) (Male) (Male)',\n",
       "       '() (Male) (Male) (Male) (Male) (Male) (Female) (Male) (Male) (Male) (Male) (Male) (Male) (Male) (Male) (Male) (Male) (Female) (Male) (Male) (Male) (Female)',\n",
       "       '() (Female) (Male) (Female) (Male) (Female) (Male) (Male) (Male) (Male) (Male) (Male) (Female) (Male) (Female) (Male) (Male)',\n",
       "       '() (Female) (Female) (Female)',\n",
       "       '() (Female) (Male) (Female) (Male) (Male) (Male) (Male)',\n",
       "       '(Male) (Male) (Male) (Male) (Male) (Male) (Male) (Male) (Male) (Male) (Male) (Male) (Male) (Male) (Male) (Male) (Male) (Male) (Male) ()',\n",
       "       '(Female) (Male) (Male) (Male) (Male) (Male) (Male) (Male) (Male) (Male) (Male) (Male) (Female) (Male) (Male) (Male) (Male) ()',\n",
       "       '(Male) (Male) (Male) (Male) (Male) (Male) (Male) (Male) (Male) (Male) (Male) ()',\n",
       "       '(Male) (Female) (Male) (Male) (Male) (Male) (Male) (Male) (Male) (Male) ()',\n",
       "       '(Male) (Male) (Male) (Male) (Male) (Male) (Male) (Male) (Male) (Female) (Male) (Male) ()',\n",
       "       '() (Male) (Female) (Male)', '(Male) () () () (Male) ()',\n",
       "       '() (Female) (Male) (Male) (Male) (Female) (Female) (Female)',\n",
       "       '(Male) () (Male) () ()', '(Male) (Male) (Male) () ()',\n",
       "       '(Male) (Male) () () ()', '() () (Male) (Male) ()',\n",
       "       '(Male) (Female) (Male) (Male) () ()',\n",
       "       '(Male) (Female) (Male) () ()', '(Male) () (Male) () (Male) ()',\n",
       "       '(Male) (Female) (Female) (Male) (Male) (Male) (Female) (Male) (Female) (Male) (Male) (Female) (Female) (Male) (Male) (Male) (Male) (Male) (Male) (Male) (Male) (Male) (Male) (Male) (Male) (Male) (Male) (Male) (Male) ()',\n",
       "       '() (Male) (Male) (Male) (Male) (Male) (Male) (Male) (Male) (Male)',\n",
       "       '() (Female) (Male) (Male) (Female) (Female) (Male) (Male) (Male) (Male) (Male) (Male) (Male)',\n",
       "       '(Male) (Female) (Male) (Male) (Male) (Male) (Male) (Male) (Female) (Male) (Female) ()',\n",
       "       '(Male) (Male) (Male) (Female) (Female) (Male) (Male) (Female) (Male) (Male) (Male) ()',\n",
       "       '(Male) (Female) (Male) (Male) (Male) (Male) (Male) (Male) (Male) () (Male) ()',\n",
       "       '(Male) (Male) (Male) (Male) (Male) (Female) (Male) (Male) (Male) (Female) (Male) (Female) ()',\n",
       "       '(Male) (Male) () (Male) (Male) (Male) (Male) (Female) (Male) (Male) (Male) (Female) (Male) ()',\n",
       "       '(Male) (Male) (Male) (Male) (Male) (Male) (Male) (Male) (Male) (Female) (Male) ()',\n",
       "       '() (Male) (Female) (Male) (Male) (Male) (Male) () (Male) (Male) (Female) (Male) (Male) (Female) (Male) () (Male) (Female) (Male) (Female) (Male) (Male) (Male) (Male) (Male) (Female) (Male) (Male) (Male) (Male) (Male)',\n",
       "       '() (Male) (Female) (Male) (Male) (Male) (Female) (Female) (Male) (Male) (Male) (Male) (Female) (Male) (Female) (Female) (Male) (Female) (Female) (Male) (Male) (Female) (Male) (Female) (Female) (Male) (Female) (Male) (Female) (Female) (Female) (Female) (Male) (Male) (Male) (Male) (Male) (Female) (Male) () (Male) (Female) (Male) (Male) (Female) (Male) (Male)',\n",
       "       '() () (Male) (Male) (Male) () () ()',\n",
       "       '() (Male) (Male) (Male) (Male) (Male) (Male) (Male) (Male) (Male) (Male) (Male) (Male)',\n",
       "       '(Male) (Female) (Female) (Male) (Male) (Male) (Male) (Male) (Male) (Male) ()',\n",
       "       '() (Male) (Male) (Male) (Male) (Male) (Male) (Male) (Female) (Male) (Male)',\n",
       "       '(Male) (Male) (Male) (Male) (Male) (Male) (Female) (Male) (Male) (Male) ()',\n",
       "       '(Female) (Male) (Male) (Male) (Male) (Male) (Male) (Male) (Male) (Male) (Male) (Male) (Male) (Male) (Male) (Male) (Female) (Male) (Male) (Male) (Male) (Male) (Male) (Male) (Male) (Male) (Male) (Male) (Male) ()',\n",
       "       '() (Male) (Male) (Male) (Male) (Male) (Male) (Male) (Male)',\n",
       "       '() (Female) (Female) (Male) (Male) (Male) (Male)',\n",
       "       '() (Male) (Male) (Male) (Male) (Male) (Female) (Male) (Male) (Male) (Male)',\n",
       "       '(Male) (Male) (Male) (Male) (Male) (Male) (Male) (Male) (Male) (Male) (Male) (Male) ()',\n",
       "       '() (Male) (Female) (Male) (Male) (Male)',\n",
       "       '(Male) (Female) (Male) (Male) (Male) (Male) (Male) (Female) (Female) (Female) (Male) ()',\n",
       "       '() (Male) (Male) (Male) (Male) (Male) (Male) (Male) (Male) (Female)',\n",
       "       '() (Female) (Male) (Male) (Male) (Male) (Male) (Male) (Male) (Male) (Male)',\n",
       "       '(Male) () (Male) (Male) (Male) (Male) (Male) (Male) (Male) (Male) (Female) ()',\n",
       "       '() () () () () () () (Male) (Male) (Male) (Male) (Male) (Male) (Female) (Female) (Male)',\n",
       "       '(Male) (Male) (Male) (Male) (Male) (Male) (Male)',\n",
       "       '(Female) (Male) (Male) ()',\n",
       "       '(Male) () (Male) (Male) (Female) (Male) (Male) () (Male) (Male) () ()',\n",
       "       '(Male) (Male) (Female) (Male) (Male) ()',\n",
       "       '(Male) (Male) (Male) () (Female) ()',\n",
       "       '(Male) () (Female) (Male) () ()',\n",
       "       '() (Male) (Male) () (Female) (Male)',\n",
       "       '(Male) () (Male) (Male) (Female) ()',\n",
       "       '() (Male) (Male) (Female) (Male) (Male) (Male) (Male) (Male) (Male) (Male) (Male)',\n",
       "       '() (Male) () (Male) (Male) (Male) (Female)',\n",
       "       '() (Male) (Female) (Male) (Male) (Male) (Male) (Female) (Male) (Male) (Female)',\n",
       "       '(Male) () () ()', '() (Male) (Female) ()',\n",
       "       '(Male) () () () () () (Male) () () ()',\n",
       "       '(Female) (Female) (Female) ()',\n",
       "       '(Male) (Male) (Female) (Male) (Male) (Male) (Male) (Female) (Male) (Male) () (Male) (Male) (Male) ()',\n",
       "       '(Male) (Female) () ()', '() () () () () ()',\n",
       "       '(Female) (Male) () (Male) ()', '(Male) (Male) (Female) (Male)',\n",
       "       '() () (Female) (Male) (Male) ()', '() () () () ()',\n",
       "       '() () (Male) (Male)', '(Male) (Female) (Male) (Male) (Male) ()',\n",
       "       '(Male) (Male) (Male) (Female) (Male) ()',\n",
       "       '(Male) (Female) (Male) (Female) (Male) ()',\n",
       "       '(Female) (Female) (Male) (Female) ()',\n",
       "       '() (Male) (Male) (Male) () (Female) () () ()',\n",
       "       '(Female) () (Male) (Male) (Male) (Male) (Male) () (Male) (Male) (Male) (Female)',\n",
       "       '() (Male) (Female) (Male) (Female) (Male)',\n",
       "       '(Female) (Male) (Female) (Male) ()',\n",
       "       '() (Male) (Female) (Male) (Male) (Male) (Female) (Female) (Female) (Male)',\n",
       "       '() (Male) (Male) (Male) (Male) (Male) (Male) (Male) (Male) (Male) (Male) (Male) (Male) (Male) (Male) (Male) (Male) (Male) (Male) (Male)',\n",
       "       '(Female) () (Female) (Male)', '(Male) (Female) () (Male)',\n",
       "       '(Female) () ()',\n",
       "       '() (Female) (Male) (Male) (Male) (Male) () (Male) () ()',\n",
       "       '() (Male) (Female) (Female) () (Male) (Male) (Male) () () () () () () () () ()',\n",
       "       '(Female) (Male) (Male) (Female) () ()',\n",
       "       '() () () () (Male) () ()', '(Female) () (Male)',\n",
       "       '(Male) (Male) (Female) (Male) () ()',\n",
       "       '() (Male) (Male) (Male) (Male) (Male) (Male) (Male) (Male) (Male) (Female)',\n",
       "       '(Male) () (Male)', '(Female) (Male) (Female) (Male) (Male) () ()',\n",
       "       '(Non-Binary)', '() (Female) (Female) (Male)',\n",
       "       '() (Male) (Female) (Female) (Male)',\n",
       "       '(Male) (Female) (Male) (Male)', '(male)',\n",
       "       '() (Male) (Female) () (Male) (Male)',\n",
       "       '() (Male) (Non-Binary) (Female) (Female) (Female)',\n",
       "       '(Male) (Male) (Male) (Female) (Male) (Male) (Male) (Female) (Male) (Female) (Male) (Male) (Male) (Male) ()',\n",
       "       '() (Male) (Male) (Male) (Male) (Male) (Female) (Male) (Male) (Male) (Male) (Female) (Male) (Male)',\n",
       "       '(Male) (Male) (Male) (Male) (Male) () () (Male) (Male) (Female) (Male) (Male) (Male) () () (Male) (Male) (Male) (Male) (Female)',\n",
       "       '(Male) (Male) (Male) (Male) (Male) () () (Male) (Male) (Female) (Male) (Male) (Male) () () (Male) (Male) (Male) (Male) (Female) (Male) (Male) (Male) (Male) (Male) () (Male)',\n",
       "       '(Male) (Male) (Male) (Female) (Male) (Male) (Male)',\n",
       "       '(Male) (Male) (Female) (Male) (Male) (Male)',\n",
       "       '(Male) (Male) (Male) (Male) (Male) (Female)',\n",
       "       '() (Male) (Male) () (Male) (Female) () (Male) (Male) (Male) (Female) (Female) (Male) (Male) (Male) (Female) (Male) (Male) (Female) (Male) (Male) (Male) (Male)',\n",
       "       '(Male) (Male) (Male) (Male) (Male) (Male) (Male) (Male) (Male) (Female) (Male)',\n",
       "       '(Male) () (Male) (Male) (Male) (Male)',\n",
       "       '() (Female) (Female) (Female) (Female) (Male)',\n",
       "       '() (Male) (Male) () (Male) (Male) (Female) (Male) (Female) (Male) (Male) (Male) (Female) (Male) (Male) (Male) (Male)',\n",
       "       '() (Male) (Male) (Male) (Male) (Female) (Male) (Male) (Male) (Male) (Male) (Male) () (Male) (Male)',\n",
       "       '() (Male) (Male) (Male) (Male) (Female) (Male) (Male) (Female) (Male) (Male) (Male)',\n",
       "       '(Male) (Male) (Female) (Male) (Male) (Female) () (Male) () (Male) (Male) (Male) (Male) ()',\n",
       "       '() (Male) (Male) () (Male) (Male) (Male) (Male) (Female) (Female) (Male) (Male) (Male) (Male)',\n",
       "       '() (Male) (Male) (Male) (Male) (Male) (Male) (Male) () () (Male) (Female) (Male) (Female) (Male) (Male) (Male) (Male) (Male) (Female) (Male) (Male)',\n",
       "       '() (Male) (Male) (Male) (Male) (Female) (Male) (Male) (Male) (Male) (Male) (Male) () (Male) (Male) (Male) (Male)',\n",
       "       '(Male) () (Male) (Male) (Male) (Male) (Male)',\n",
       "       '() (Male) (Male) (Male) (Female) (Male) (Male) (Male) (Male) () (Male) (Male)',\n",
       "       '() (Female) (Female) (Male) (Male)', '(Male) () () (Male) ()',\n",
       "       '() (Female) (Female) (Female) (Female) (Female) (Female) (Female) (Female) (Female) (Female) (Female) (Female) (Female) (Female) (Female) (Female) (Female) (Female) (Female) (Female)',\n",
       "       '(Male) (Male) (Female) (Male) (Male) (Male) (Male)',\n",
       "       '() (Male) () (Male) () (Male) (Male)',\n",
       "       '() (Female) (Female) (Male) (Male) (Male)',\n",
       "       '() (Male) (Male) (Male) (Male) () (Male) (Male) () (Male) () (Male) () (Male) () (Male) (Male) ()',\n",
       "       '() (Male) (Male) () (Male) (Male) (Male) () (Male) () () (Male) (Male) ()',\n",
       "       '() () (Female) () (Male) (Male) () (Male) (Male) (Female) (Male) (Male) () () () (Male) (Male) () (Male) (Male) (Male) (Male) (Male) (Male) ()',\n",
       "       '() (Male) (Male) () (Male) (Male) (Male)',\n",
       "       '(Female) (Female) (Male) (Female) (Male)',\n",
       "       '(Male) (Female) () (Male) ()', '(Male) (Male) () (Female)',\n",
       "       '(Male) (Male) (Female) (Male) (Male)',\n",
       "       '(Male) (Male) (Male) (Male) (Female) (Male) (Female)',\n",
       "       '(Male) () (Male) (Male) (Female) (Male)',\n",
       "       '(Male) () () (Male) (Male) (Male) ()',\n",
       "       '(Male) (Male) (Female) () (Male) ()',\n",
       "       '(Female) () (Male) (Female) (Male) (Female) (Male)',\n",
       "       '(Male) () (Male) (Female)', '(Male) () (Male) () (Female)',\n",
       "       '(Male) () (Male) (Male) (Male)',\n",
       "       '(Male) (Male) (Male) () (Male) (Male)',\n",
       "       '(Male) () (Male) (Male) () ()', '() () (Male) (Male) (Male)',\n",
       "       '(Male) () (Female) (Male) (Male) (Male) () (Male) (Male) () ()',\n",
       "       '() (Male) () () (Male)', '(Male) () () (Male)',\n",
       "       '(Male) (Male) (Male) (Female) () (Male)', '(Male) () (Female)',\n",
       "       '(Male) (Female) (Female) (Female)',\n",
       "       '() (Male) (Male) (Male) (Male) () (Male) (Female) (Male) (Male) (Female) (Male) (Male) (Male) (Male) (Male) (Male) (Male) (Female) (Male) (Male) (Male) (Male)',\n",
       "       '(Male) () (Female) (Male)',\n",
       "       '() () (Female) (Female) (Female) (Female)',\n",
       "       '(Male) (Male) (Male) (Male) (Male) (Male) (Male) (Male) (Male) (Male) (Male) (Male) (Male) (Male) (Male) (Female) (Male)',\n",
       "       '(Male) () (Male) () (Male)', '() (Female) (Female) () (Male)',\n",
       "       '(Female) (Female) (Female)',\n",
       "       '() (Female) (Male) (Male) (Female) (Female) (Male)',\n",
       "       '() (Male) (Male) () (Male) (Female) (Female)',\n",
       "       '() (Male) (Male) (Female) (Male) (Male) (Female)',\n",
       "       '() (Female) (Male) (Female) (Male) (Female) (Male)',\n",
       "       '() (Male) (Male) (Male) (Male) () (Male)',\n",
       "       '() (Male) (Male) (Male) (Male) (Male) () () (Male) () (Male) (Female) (Male) (Male) (Male) (Male) (Male) (Male) (Male) (Female) (Male) (Male) (Male) (Male) (Male) () (Male)',\n",
       "       '() (Male) () (Male) () (Male) () ()',\n",
       "       '() (Male) (Female) (Male) (Male) (Male) (Male) (Male)',\n",
       "       '() (Male) (Male) (Male) () () () () ()',\n",
       "       '() () (Male) (Female) (Female) (Male) (Female)',\n",
       "       '(Female) (Male) (Male) () (Male) (Male) (Male) () (Female) (Male) () () (Female) (Male) (Male)',\n",
       "       '() (Male) () () (Female) (Male)',\n",
       "       '(Female) (Male) (Female) (Male) (Male) (Male) (Male)',\n",
       "       '(Female) (Male) (Female) (Male) (Male) (Male)',\n",
       "       '(Female) (Male) (Male) (Female) (Male) (Male)',\n",
       "       '() (Female) (Male) (Male) (Male) (Male) ()',\n",
       "       '(Female) (Male) (Female) (Male) (Male)', '(Male) () () () (Male)',\n",
       "       '() () (Female) () () (Male) (Female) () (Male) () (Male) ()',\n",
       "       '() () (Male) (Male) (Male) (Male)', '() () (Male) ()',\n",
       "       '() () (Male) (Male) (Male) (Male) () () () () () ()',\n",
       "       '(Male) (Male) (Male) (Male) (Male) (Male) (Male) (Male) (Male) (Female) () (Female) (Male) (Male) (Male) (Male) (Male) (Male) ()',\n",
       "       '(Female) (Male) () ()', '(Female) (Male) (Male) (Male)',\n",
       "       '(Male) () (Male) ()',\n",
       "       '(Male) (Male) (Male) (Male) (Male) () (Male) (Male) (Male) (Male) (Male) (Male) (Male) (Male) (Male) (Male) (Male) (Male) (Male) (Male)',\n",
       "       '(Male) (Male) (Male) (Female) ()',\n",
       "       '(Female) () (Male) (Male) (Male) (Male)', '(Female) () (Male) ()',\n",
       "       '() () () () () () () () () () () () () () () (Male)',\n",
       "       '() () () () () () () (Male)',\n",
       "       '() () () () () () () () () () () () () (Male)',\n",
       "       '() () () () () () () () () (Male)',\n",
       "       '() () () () () () () () () () () () () () () () () () () () () (Male)',\n",
       "       '(Male) () (Male) () (Male) () () ()', '() () () () () () (Male)',\n",
       "       '() (Male) () () (Male) () (Male) () (Male) (Female) () (Male) () (Female) () () (Female) (Male)',\n",
       "       '() (Female) (Female) (Male) (Male) (Male) (Male) (Male) (Male) (Female) (Male) (Male) (Male) () (Male) (Male) (Male) (Female) (Male) (Male) (Male) (Female)',\n",
       "       '() (Male) (Male) (Female) (Female)',\n",
       "       '(Male) (Male) () () (Male) () () ()',\n",
       "       '() (Female) (Male) (Male) (Male) (Male) (Male) (Female) (Female) (Male) (Male) (Female) (Male) (Male) (Male) (Male) (Female) (Male) (Female) (Male) (Male) (Female) (Female) (Male) (Male) (Male) (Male) (Male) (Male) (Female) (Female)',\n",
       "       '(Male) () (Male) (Male) (Male) (Male) ()',\n",
       "       '(Male) (Male) (Male) (Male) () () ()',\n",
       "       '() (Male) (Male) (Male) (Male) (Female) (Male) (Female) (Male)',\n",
       "       '(Female) (Male) (Male) (Male) (Male) (Female) () (Male)',\n",
       "       '() (Male) () (Male) () (Male) (Female) (Male) (Male) (Male)',\n",
       "       '(Male) (male)',\n",
       "       '() (Male) (Female) (Female) (Female) (Male) (Female) () (Male) (Male) (Female)',\n",
       "       '(Female) (Female) ()', '() (Female) (Male) (Female)',\n",
       "       '() (Female) () ()', '(Female) () () ()',\n",
       "       '(Male) (Male) (Male) (Male) (Male) (Female) (Female) (Male) (Male) (Male) (Male)',\n",
       "       '(Male) (Female) (Male) (Male) (Male) (Female) (Male)',\n",
       "       '() (Male) (Male) () (Male) (Male) (Male) (Female)',\n",
       "       '() (Male) (Male) (Male) (Male) (Male) (Male) (Male) (Male) (Male) (Male) (Male) (Female) (Male)',\n",
       "       '() (Male) (Male) (Male) (Male) (Female) (Male) (Male) (Male) (Male) (Male) (Male) (Male) (Male) (Male) (Male) (Female)',\n",
       "       '() (Female) (Male) (Male) (Female) (Male) (Male) (Female) (Male) (Male) (Male)',\n",
       "       '() (Male) (Male) (Male) () (Male) (Male) (Male) (Male)',\n",
       "       '() (Female) (Male) (Female) (Female) (Female) (Male) (Male) (Male) (Female)',\n",
       "       '() (Female) (Male) (Female) (Male) (Male) (Female) (Male)',\n",
       "       '(Male) () () () ()',\n",
       "       '() (Male) (Female) (Male) (Male) (Male) (Male) (Male) (Male)',\n",
       "       '(Male) (Male) () (Male) (Male) (Male)',\n",
       "       '() (Female) (Female) (Male) (Female) (Female) (Female) (Female) (Male) (Male) (Female) (Male)',\n",
       "       '(female)', '() (Male) (Male) (Female) (Female) (Female) (Female)',\n",
       "       '(Non-binary)'], dtype=object)"
      ]
     },
     "execution_count": 232,
     "metadata": {},
     "output_type": "execute_result"
    }
   ],
   "source": [
    "artwork[\"Gender\"].unique()"
   ]
  },
  {
   "cell_type": "code",
   "execution_count": null,
   "id": "ccf9072c-ed1c-4529-9d8b-13570f48e415",
   "metadata": {},
   "outputs": [],
   "source": []
  }
 ],
 "metadata": {
  "kernelspec": {
   "display_name": "Python 3",
   "language": "python",
   "name": "python3"
  },
  "language_info": {
   "codemirror_mode": {
    "name": "ipython",
    "version": 3
   },
   "file_extension": ".py",
   "mimetype": "text/x-python",
   "name": "python",
   "nbconvert_exporter": "python",
   "pygments_lexer": "ipython3",
   "version": "3.8.8"
  }
 },
 "nbformat": 4,
 "nbformat_minor": 5
}
